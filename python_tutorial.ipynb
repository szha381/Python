{
 "cells": [
  {
   "cell_type": "markdown",
   "metadata": {},
   "source": [
    "# Python正则表达式处理中文\n",
    "主要运用re正则表达式包中 compile search findall\n",
    "  参考自：http://blog.csdn.net/gatieme/article/details/43235791"
   ]
  },
  {
   "cell_type": "markdown",
   "metadata": {},
   "source": [
    "#  1 读取中文utf-8文件\n",
    "关键在于 text = unicode(text)运用Unicode过渡"
   ]
  },
  {
   "cell_type": "code",
   "execution_count": null,
   "metadata": {},
   "outputs": [],
   "source": [
    "# -*- coding: utf-8 -*-\n",
    "import re\n",
    "\n",
    "# 需要将默认的编码设置为utf-8，才能进行Unicode\n",
    "# 转换，否则ascii无法进行转换\n",
    "import sys\n",
    "reload(sys)\n",
    "sys.setdefaultencoding('utf8')\n",
    "\n",
    "filepath = \"F:\\\\graduation_expriment_pro\\\\test.txt\"\n",
    "with open(filepath) as f:\n",
    "    text = f.read()\n",
    "# 需要转换成Unicode\n",
    "text = unicode(text)\n",
    "\n",
    "# \\u4e00-\\u9fa5为中文汉字的编码范围，\n",
    "# u是Unicode，r是原始编码\n",
    "reg_patten = re.compile(r\"[\\u4e00-\\u9fa5]+\")\n",
    "\n",
    "# 注意findall返回的是所有汉字的编码\n",
    "res = re.findall(reg_patten, text)\n",
    "for r in res:\n",
    "    print (r)"
   ]
  },
  {
   "cell_type": "markdown",
   "metadata": {},
   "source": [
    "# 2 自定义str做正则化查询"
   ]
  },
  {
   "cell_type": "code",
   "execution_count": null,
   "metadata": {},
   "outputs": [],
   "source": [
    "# -*- coding: utf-8 -*-\n",
    "import re\n",
    "\n",
    "# 需要将默认的编码设置为utf-8，才能进行Unicode\n",
    "# 转换，否则ascii无法进行转换\n",
    "import sys\n",
    "reload(sys)\n",
    "sys.setdefaultencoding('utf8')\n",
    "\n",
    "s = \"hello中国world世界\"\n",
    "s = unicode(s)\n",
    "\n",
    "reg_patten = re.compile(r\"[\\u4e00-\\u9fa5]+\")\n",
    "m = reg_patten.search(s)\n",
    "print m.group()\n"
   ]
  },
  {
   "cell_type": "code",
   "execution_count": null,
   "metadata": {},
   "outputs": [],
   "source": []
  }
 ],
 "metadata": {
  "kernelspec": {
   "display_name": "Python 3",
   "language": "python",
   "name": "python3"
  },
  "language_info": {
   "codemirror_mode": {
    "name": "ipython",
    "version": 3
   },
   "file_extension": ".py",
   "mimetype": "text/x-python",
   "name": "python",
   "nbconvert_exporter": "python",
   "pygments_lexer": "ipython3",
   "version": "3.6.3"
  }
 },
 "nbformat": 4,
 "nbformat_minor": 2
}
